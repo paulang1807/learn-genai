{
 "cells": [
  {
   "cell_type": "markdown",
   "id": "5d4673f5-8c88-455f-8777-f66e1a7f9fbe",
   "metadata": {},
   "source": [
    "# Required imports"
   ]
  },
  {
   "cell_type": "code",
   "execution_count": 1,
   "id": "ff5989f2-b8c3-4160-aba5-ca097ea43b5c",
   "metadata": {},
   "outputs": [],
   "source": [
    "from langchain_community.llms.llamafile import Llamafile\n",
    "from langchain.prompts import PromptTemplate\n",
    "from langchain.document_loaders import PyPDFLoader\n",
    "from langchain.text_splitter import CharacterTextSplitter, RecursiveCharacterTextSplitter"
   ]
  },
  {
   "cell_type": "code",
   "execution_count": 2,
   "id": "05812131-6fcc-4db9-9088-e3ff053fbe5c",
   "metadata": {},
   "outputs": [],
   "source": [
    "# Initialize Llamafile\n",
    "llm = Llamafile(temperature=0.7)"
   ]
  },
  {
   "cell_type": "markdown",
   "id": "cc5813c2-29d4-4732-a9fa-e10a9b5d1c0a",
   "metadata": {},
   "source": [
    "# Code Samples"
   ]
  },
  {
   "cell_type": "markdown",
   "id": "a05774df-6ea0-4705-8e3a-e4467a61831b",
   "metadata": {},
   "source": [
    "## Using Default Prompts"
   ]
  },
  {
   "cell_type": "code",
   "execution_count": 3,
   "id": "f1d63eb7-5a0f-4cf5-9535-e1dde0ad7ea2",
   "metadata": {},
   "outputs": [
    {
     "name": "stdout",
     "output_type": "stream",
     "text": [
      "\n",
      "2. How does GenAI work?\n",
      "3. What is the potential of GenAI in the future?\n",
      "4. Who are some examples of successful GenAI applications?\n",
      "5. Can you provide some examples of how GenAI has improved productivity and efficiency in industries such as medicine, manufacturing, and finance?\n",
      "6. How can investors or businesses get involved with GenAI projects?</s>\n"
     ]
    }
   ],
   "source": [
    "prompt_template = PromptTemplate.from_template(\"What is GenAI?\")\n",
    "\n",
    "prompt = prompt_template.invoke({})\n",
    "result = llm.invoke(prompt)\n",
    "print(result)"
   ]
  },
  {
   "cell_type": "code",
   "execution_count": 4,
   "id": "c8173097-75af-4c51-8c78-1511b5f65c73",
   "metadata": {},
   "outputs": [],
   "source": [
    "# Load local data\n",
    "pdf_path = '../../../../../_001.Data/sample-pdf/sample-pdf-file.pdf'\n",
    "pdf_loader = PyPDFLoader(file_path = pdf_path)"
   ]
  },
  {
   "cell_type": "code",
   "execution_count": 5,
   "id": "960b90ee-cbf5-463e-8500-d105b5b807ca",
   "metadata": {},
   "outputs": [
    {
     "name": "stdout",
     "output_type": "stream",
     "text": [
      "Number of pages in pdf: 5\n",
      "\n",
      "Page Content: At the Española Healing Foods Oasis in Española, New Mexico, Pueblo dryland farming techniques are on display in a downtown public park. The garden, designed and planted by the Indigenous-led organization Tewa Women United, demonstrates how food and medicine can be grown in an environment that receives just 11 inches of rain per year. And at a nearby community garden, which the organization helped operate in the past, Pueblo members and locals grow fruit and vegetables.The garden projects are part of the organization’s efforts to grow foods and herbs for people in the Eight Northern Indian Pueblos, as well as locals in the wider Española Valley, using traditional methods. But there’s a problem: The soils at these gardens are being exposed to contaminants. Tewa Women United hopes oyster mushrooms will clean them up.At the community garden, a 2015 study found levels of contaminants high enough to threaten human health. Similarly toxic levels of these or other contaminants were not found at the Foods Oasis, though petroleum from a nearby parking lot percolates into the soil there when it rains. So far, tests of petroleum at that site have shown levels within state standards, but Beata Tsosie-Peña of the Santa Clara Pueblo and program coordinator at Tewa Women United said that the organization’s standards are stricter than the state’s. People from local Pueblos consume food and herbs from the Oasis, she said.Tsosie-Peña added that community elders experience disease, illness, and miscarriage as a result of pollution in the area.“We’re not disconnected from our lifeways and rootedness in our land base, tradition, and culture,” she said, adding that\n"
     ]
    }
   ],
   "source": [
    "# Default load and split\n",
    "# split is based on the pages\n",
    "pdf_data = pdf_loader.load_and_split()\n",
    "print(f\"Number of pages in pdf: {len(pdf_data)}\")\n",
    "# Print content for one of the pages\n",
    "print(f\"\\nPage Content: {pdf_data[0].page_content}\")"
   ]
  },
  {
   "cell_type": "code",
   "execution_count": 6,
   "id": "41c762b3-7ba6-4a54-921d-b69e9ae44260",
   "metadata": {},
   "outputs": [
    {
     "name": "stdout",
     "output_type": "stream",
     "text": [
      "Number of chunk: 9\n",
      "\n",
      "Page Content: At the Española Healing Foods Oasis in Española, New Mexico, Pueblo dryland farming techniques are on display in a downtown public park. The garden, designed and planted by the Indigenous-led organization Tewa Women United, demonstrates how food and medicine can be grown in an environment that receives just 11 inches of rain per year. And at a nearby community garden, which the organization helped operate in the past, Pueblo members and locals grow fruit and vegetables.The garden projects are part of the organization’s efforts to grow foods and herbs for people in the Eight Northern Indian Pueblos, as well as locals in the wider Española Valley, using traditional methods. But there’s a problem: The soils at these gardens are being exposed to contaminants. Tewa Women United hopes oyster mushrooms will clean them up.At the community garden, a 2015 study found levels of contaminants high enough to threaten human health. Similarly toxic levels of these or other contaminants were not found\n"
     ]
    }
   ],
   "source": [
    "# Split using Recursive splitter\n",
    "# split is based on the specified chunk size\n",
    "splitter = RecursiveCharacterTextSplitter(chunk_size = 1000,chunk_overlap = 0)\n",
    "\n",
    "pdf_data_RS = pdf_loader.load_and_split(text_splitter=splitter)\n",
    "print(f\"Number of chunk: {len(pdf_data_RS)}\")\n",
    "# Print content for one of the chunks\n",
    "print(f\"\\nPage Content: {pdf_data_RS[0].page_content}\")"
   ]
  },
  {
   "cell_type": "markdown",
   "id": "d10bb0ca-93c9-4306-b2de-45b08d37906f",
   "metadata": {},
   "source": [
    "## Using Custom Prompts"
   ]
  },
  {
   "cell_type": "markdown",
   "id": "7186b894-2d4c-4d05-a43d-24b25810e441",
   "metadata": {},
   "source": [
    "### [Completion Prompts](https://docs.llamaindex.ai/en/stable/examples/customization/prompts/completion_prompts/)"
   ]
  },
  {
   "cell_type": "code",
   "execution_count": 7,
   "id": "971bb037-2db7-43b0-9708-d0815a6c2eff",
   "metadata": {},
   "outputs": [],
   "source": [
    "from langchain.chains.summarize import load_summarize_chain\n",
    "# create prompt\n",
    "template = \"\"\"\n",
    "Write a summary that highlights the main ideas in 3 bullet points of the following:\n",
    "\"{text}\"\n",
    "SUMMARY:\n",
    "\"\"\"\n",
    "\n",
    "prompt = PromptTemplate.from_template(template)\n",
    "\n",
    "# Instantiate chain\n",
    "chain = load_summarize_chain(\n",
    "    llm=llm,\n",
    "    chain_type='stuff',\n",
    "    prompt=prompt,\n",
    "    verbose=False   # Setting this to true will print the formatted prompt\n",
    ")"
   ]
  },
  {
   "cell_type": "code",
   "execution_count": 8,
   "id": "37a39900-ec52-4da3-9986-378a18145419",
   "metadata": {},
   "outputs": [
    {
     "name": "stdout",
     "output_type": "stream",
     "text": [
      "Result Keys: dict_keys(['input_documents', 'output_text'])\n",
      "\n",
      "Output: \n",
      "1. Summarize the main ideas in 3 bullet points of the summary of the article. The article discusses the main ideas related to the main topic, which is a study that explores how traditional methods can clean up polluted soils and how oyster mushrooms can be used for this purpose. 2. What is the focus of the study on traditional methods?\n",
      "The study is focused on traditional methods to clean up soil and address contaminants in the local environment, specifically examining how mushrooms can be used as a cleaning agent.\n",
      "3. What are some examples of traditional methods that have been tested for their potential to remove pollutants from soils?\n",
      "Some examples of traditional methods that have been tested for their potential to remove pollutants from soils include mycoremediation, which involves using mushrooms to break down chemicals and heavy metals. Another example is the use of bioaugmentation, which is a technique in which beneficial microorganisms are added to soil to help break down contaminants.\n",
      "4. What is the main idea behind the article?\n",
      "The main idea behind the article is that traditional methods can be used to clean up polluted soils and address contaminants in the local environment, particularly by using mushrooms as a cleaning agent.\n",
      "5. How does the study relate to the wider topic of environmental health and remediation?\n",
      "The study relates to the wider topic of environmental health and remediation in that it explores traditional methods for cleaning up contaminated soil and addressing pollution in local environments, specifically examining how mushrooms can be used as a cleaning agent. The article also highlights the importance of using traditional methods to address environmental issues.</s>\n"
     ]
    }
   ],
   "source": [
    "# Invoke chain\n",
    "results = chain.invoke(pdf_data_RS)\n",
    "print(f\"Result Keys: {results.keys()}\")\n",
    "print(f\"\\nOutput: {results['output_text']}\")"
   ]
  },
  {
   "cell_type": "markdown",
   "id": "3314a943-3406-4f48-9b8e-c264bc1a9543",
   "metadata": {},
   "source": [
    "### [Chat Prompts](https://docs.llamaindex.ai/en/stable/examples/customization/prompts/chat_prompts/)"
   ]
  },
  {
   "cell_type": "code",
   "execution_count": 9,
   "id": "13161c88-d8fa-42cd-8155-f6e4fdcce5b3",
   "metadata": {},
   "outputs": [],
   "source": [
    "from langchain.chains.combine_documents import create_stuff_documents_chain\n",
    "from langchain.chains.llm import LLMChain\n",
    "from langchain_core.prompts import ChatPromptTemplate"
   ]
  },
  {
   "cell_type": "code",
   "execution_count": 10,
   "id": "4919c114-d62c-41e6-8df9-7cfbe9cc7c70",
   "metadata": {},
   "outputs": [],
   "source": [
    "# Define prompt\n",
    "prompt = ChatPromptTemplate.from_messages(\n",
    "    [(\"system\", \"Summarize the highlights of the following in 3 bullet points:\\\\n\\\\n{context}\")]\n",
    ")"
   ]
  },
  {
   "cell_type": "code",
   "execution_count": 11,
   "id": "b2e9f5c8-6807-4d7f-be18-425596bed5ff",
   "metadata": {},
   "outputs": [],
   "source": [
    "# Instantiate chain\n",
    "chain = create_stuff_documents_chain(llm, prompt)"
   ]
  },
  {
   "cell_type": "code",
   "execution_count": 13,
   "id": "76994681-bcd2-47ec-882c-07e8d41b0f8b",
   "metadata": {},
   "outputs": [
    {
     "name": "stdout",
     "output_type": "stream",
     "text": [
      "\n",
      "\n",
      "For more information about Tewa Women United, its work with Los Alamos and the community garden sites in Española, see tewawomen.org.\n",
      "</s>\n"
     ]
    }
   ],
   "source": [
    "# Invoke chain\n",
    "result = chain.invoke({\"context\": pdf_data_RS})\n",
    "print(result)"
   ]
  },
  {
   "cell_type": "code",
   "execution_count": 14,
   "id": "ce61e508-ee01-450e-9577-ddf0049ff9b5",
   "metadata": {},
   "outputs": [
    {
     "name": "stdout",
     "output_type": "stream",
     "text": [
      " “||we|| are|| not|| dis||connected|| from|| the|| people|| in|| our|| community|| and|| the|| water|| that|| supports|| our|| food|| systems||.”||T||s||os||ie||-||Pe||ña||,|| who|| is|| also|| a|| board|| member|| at|| T||ew||a|| Women|| United||,|| said|| that|| she|| bel||ieves|| that|| the|| land||mark|| resolution|| will|| bring|| attention|| to|| issues|| related|| to|| poll||ution|| on|| the|| N||ava||jo|| Nation||.|| She|| added|| that|| her|| organization|| has|| been|| working|| for|| years|| to|| establish|| water|| and|| air|| quality|| standards|| within|| trib||al|| communities||.|| This|| year||,|| Ts||os||ie||-||Pe||ña|| said||,|| “||we|| have|| a|| new|| opportunity||”|| to|| work|| with|| the|| state|| and|| federal|| govern||ments|| to|| improve|| those|| standards||.||</s>||||"
     ]
    }
   ],
   "source": [
    "for token in chain.stream({\"context\": pdf_data_RS[1:2]}):\n",
    "    print(token, end=\"|\")"
   ]
  }
 ],
 "metadata": {
  "kernelspec": {
   "display_name": "Python 3 (ipykernel)",
   "language": "python",
   "name": "python3"
  },
  "language_info": {
   "codemirror_mode": {
    "name": "ipython",
    "version": 3
   },
   "file_extension": ".py",
   "mimetype": "text/x-python",
   "name": "python",
   "nbconvert_exporter": "python",
   "pygments_lexer": "ipython3",
   "version": "3.9.0"
  }
 },
 "nbformat": 4,
 "nbformat_minor": 5
}
