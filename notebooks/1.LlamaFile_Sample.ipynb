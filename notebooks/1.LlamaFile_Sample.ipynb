{
 "cells": [
  {
   "cell_type": "markdown",
   "id": "f1c2f4cf-2101-4f5b-a3ec-0c2bc08e3232",
   "metadata": {},
   "source": [
    "# Required imports"
   ]
  },
  {
   "cell_type": "code",
   "execution_count": 1,
   "id": "a8126fbb-e9cb-4973-8850-c89e7c12b99b",
   "metadata": {},
   "outputs": [],
   "source": [
    "from openai import OpenAI\n",
    "from IPython.display import Markdown, display"
   ]
  },
  {
   "cell_type": "code",
   "execution_count": 2,
   "id": "f8a61634-7d9f-4736-a28b-eb1d621c2546",
   "metadata": {},
   "outputs": [],
   "source": [
    "from scripts.helper_functions import GeneralHelper, NLPHelper, ChatHelper, PromptHelper"
   ]
  },
  {
   "cell_type": "markdown",
   "id": "d1e79df4-4134-4f1e-bb1d-7adcec3847fc",
   "metadata": {},
   "source": [
    "# Basic client setup"
   ]
  },
  {
   "cell_type": "code",
   "execution_count": 3,
   "id": "e2dd4b9b-0d4b-4abb-814f-9781715e3ab0",
   "metadata": {},
   "outputs": [],
   "source": [
    "client = OpenAI(\n",
    "    base_url=\"http://127.0.0.1:8080/v1\",  # local llamafile url\n",
    "    api_key=\"no-key\"   # empty string does not work\n",
    ")"
   ]
  },
  {
   "cell_type": "markdown",
   "id": "7f67e4d1-d9bc-4755-b21b-5f515faca13d",
   "metadata": {},
   "source": [
    "# Code Samples"
   ]
  },
  {
   "cell_type": "markdown",
   "id": "4ef0d41e-4086-4d2b-bc80-63d09baa2ac8",
   "metadata": {},
   "source": [
    "## Basic Prompting"
   ]
  },
  {
   "cell_type": "code",
   "execution_count": 8,
   "id": "6775f397-49cd-4b3d-9039-8627b8586197",
   "metadata": {},
   "outputs": [
    {
     "data": {
      "text/markdown": [
       "Sure, here's a Hello World example in Python with explanations and steps:\n",
       "\n",
       "```python\n",
       "# This is a Hello World program in Python\n",
       "print(\"Hello, World!\")\n",
       "```\n",
       "\n",
       "1. Step 1: Create a new Python file\n",
       "   ```python\n",
       "   # Create a new Python file\n",
       "   filename = \"hello_world.py\"\n",
       "   ```\n",
       "\n",
       "2. Step 2: Add a print statement\n",
       "   ```python\n",
       "   # Add a print statement\n",
       "   print(\"Hello, World!\")\n",
       "   ```\n",
       "\n",
       "3. Step 3: Run the program\n",
       "   ```python\n",
       "   # Run the program\n",
       "   python $filename\n",
       "   ```\n",
       "\n",
       "4. Step 4: Explanation of the program\n",
       "   ```python\n",
       "   # This is a Hello World program in Python\n",
       "   # The program prints \"Hello, World!\"\n",
       "   print(\"Hello, World!\")\n",
       "   ```\n",
       "\n",
       "5. Step 5: Explanation of the print statement\n",
       "   ```python\n",
       "   # The print statement prints a string to the console\n",
       "   print(\"Hello, World!\")\n",
       "   ```\n",
       "\n",
       "6. Step 6: Explanation of the Python file\n",
       "   ```python\n",
       "   # This is a Python file named \"hello_world.py\"\n",
       "   ```\n",
       "\n",
       "7. Step 7: Explanation of the filename\n",
       "   ```python\n",
       "   # The filename is \"hello_world.py\"\n",
       "   ```\n",
       "\n",
       "8. Step 8: Explanation of the \"python\" command\n",
       "   ```python\n",
       "   # The \"python\" command is used to run the program\n",
       "   ```\n",
       "\n",
       "9. Step 9: Explanation of the \"python filename.py\" command\n",
       "   ```python\n",
       "   # The \"python filename.py\" command is used to run the program in the current directory\n",
       "   ```\n",
       "\n",
       "10. Step 10: Explanation of the \"python filename.py\" command\n",
       "   ```python\n",
       "   # The filename is \"filename.py\"\n",
       "   ```\n",
       "\n",
       "11. Step 11: Explanation of the \"python filename.py\" command\n",
       "   ```python\n",
       "   # The filename is \"filename.py\"\n",
       "   ```\n",
       "\n",
       "12. Step 12: Explanation of the \"python filename.py\" command"
      ],
      "text/plain": [
       "<IPython.core.display.Markdown object>"
      ]
     },
     "metadata": {},
     "output_type": "display_data"
    }
   ],
   "source": [
    "prompt = f\"\"\"\n",
    "Write me a Hello World example in Python with explanations and steps in bullet points \n",
    "\"\"\"\n",
    "response = ChatHelper.get_completion(client, prompt)\n",
    "display(Markdown(response))"
   ]
  },
  {
   "cell_type": "markdown",
   "id": "6e9ea82a-3b26-4d19-900b-d957fcff7cb7",
   "metadata": {},
   "source": [
    "## Email Prompting"
   ]
  },
  {
   "cell_type": "code",
   "execution_count": 5,
   "id": "1bab245b-0c55-49d7-9b9a-471783fc8601",
   "metadata": {},
   "outputs": [
    {
     "data": {
      "text/markdown": [
       "Subject: Request for Information on Types of Owls\n",
       "\n",
       "Dear [Owl@care.org],\n",
       "\n",
       "I am writing to inquire about the types of owls that are commonly found in the wild. As an animal lover, I am fascinated by the unique characteristics and behavior of owls, and I would love to learn more about them.\n",
       "\n",
       "I would like to know more about the different species of owls that are commonly found in the wild, their habitat, diet, and behavior. I am particularly interested in learning about the different types of owls that are found in North America, such as the Barred Owl, Great Horned Owl, and Eastern Screech Owl.\n",
       "\n",
       "I would appreciate it if you could provide me with detailed information on these owls, including their physical characteristics, vocalizations, and habitat requirements. I would also like to know if there are any threats or conservation efforts being undertaken to protect these species.\n",
       "\n",
       "Thank you for your time and consideration. I look forward to hearing back from you soon.\n",
       "\n",
       "Best regards,\n",
       "[Your Name]</s>"
      ],
      "text/plain": [
       "<IPython.core.display.Markdown object>"
      ]
     },
     "metadata": {},
     "output_type": "display_data"
    }
   ],
   "source": [
    "subject = \"Owls\"\n",
    "recipient = \"owl@care.org\"\n",
    "content = \"Types of Owls\"\n",
    "\n",
    "prompt = PromptHelper.get_email_prompt(subject, recipient, content)\n",
    "\n",
    "response = ChatHelper.get_completion(client, prompt)\n",
    "display(Markdown(response))"
   ]
  },
  {
   "cell_type": "markdown",
   "id": "08d192e8-9860-4316-88c7-d86afc1084bb",
   "metadata": {},
   "source": [
    "## Embeddings"
   ]
  },
  {
   "cell_type": "code",
   "execution_count": 9,
   "id": "77367b6c-29cf-4822-b597-cde16487ca99",
   "metadata": {},
   "outputs": [
    {
     "name": "stdout",
     "output_type": "stream",
     "text": [
      "[0.005105342250317335, -0.021652555093169212, -0.01145350094884634, 0.0023372278083115816, -0.02683500200510025, -0.02535470761358738, 0.0010735621908679605, -0.010722712613642216, -0.013440721668303013, -0.012307122349739075]\n",
      "[-0.009401708841323853, -0.00846184603869915, 0.0030193901620805264, -0.01431567408144474, -0.012965588830411434, -0.016599435359239578, 0.01245869044214487, -0.030814459547400475, -0.012476119212806225, -0.019399812445044518]\n"
     ]
    }
   ],
   "source": [
    "q1_prompt = \"What is a LLM?\"\n",
    "\n",
    "q2_prompt = \"Where is an apple?\"\n",
    "\n",
    "q1_embedding = NLPHelper.get_embedding(client, q1_prompt)\n",
    "q2_embedding = NLPHelper.get_embedding(client, q2_prompt)\n",
    "\n",
    "print(q1_embedding[0:10])\n",
    "print(q2_embedding[0:10])"
   ]
  },
  {
   "cell_type": "code",
   "execution_count": 10,
   "id": "f92fda43-df78-4eab-bd5d-33707687b684",
   "metadata": {},
   "outputs": [
    {
     "data": {
      "text/plain": [
       "0.632737422511013"
      ]
     },
     "execution_count": 10,
     "metadata": {},
     "output_type": "execute_result"
    }
   ],
   "source": [
    "# Check cosine similarity\n",
    "cos_sim = GeneralHelper.get_cos_sim(q1_embedding, q2_embedding)\n",
    "cos_sim"
   ]
  },
  {
   "cell_type": "code",
   "execution_count": null,
   "id": "852b4e22-0d24-4c31-b490-5c0b48dc26ed",
   "metadata": {},
   "outputs": [],
   "source": []
  }
 ],
 "metadata": {
  "kernelspec": {
   "display_name": "Python 3 (ipykernel)",
   "language": "python",
   "name": "python3"
  },
  "language_info": {
   "codemirror_mode": {
    "name": "ipython",
    "version": 3
   },
   "file_extension": ".py",
   "mimetype": "text/x-python",
   "name": "python",
   "nbconvert_exporter": "python",
   "pygments_lexer": "ipython3",
   "version": "3.9.0"
  }
 },
 "nbformat": 4,
 "nbformat_minor": 5
}
