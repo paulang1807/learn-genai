{
 "cells": [
  {
   "cell_type": "markdown",
   "id": "11b011e4-dcbd-4ebb-b707-b58aaea4b448",
   "metadata": {},
   "source": [
    "# Required imports"
   ]
  },
  {
   "cell_type": "code",
   "execution_count": 1,
   "id": "eb09ddfb-67ed-4c0a-bc83-b7275874ee49",
   "metadata": {},
   "outputs": [],
   "source": [
    "from llama_index.core import Settings, SimpleDirectoryReader, VectorStoreIndex\n",
    "from llama_index.embeddings.llamafile import LlamafileEmbedding\n",
    "from llama_index.llms.llamafile import Llamafile\n",
    "\n",
    "# for reading csv\n",
    "from llama_index.readers.file import CSVReader\n",
    "from pathlib import Path\n",
    "\n",
    "from IPython.display import Markdown, display"
   ]
  },
  {
   "cell_type": "markdown",
   "id": "5ba5a4b3-aae2-48a2-b51d-7ce7dd016dbc",
   "metadata": {},
   "source": [
    "# Basic client setup"
   ]
  },
  {
   "cell_type": "code",
   "execution_count": 2,
   "id": "f8650d29-9f92-43c6-b541-04978e63a033",
   "metadata": {},
   "outputs": [],
   "source": [
    "# configure LlamaIndex to use the LLaMAFile\n",
    "# create an embedding model that utilizes the LLaMAFile\n",
    "Settings.embed_model = LlamafileEmbedding(base_url=\"http://localhost:8080\")\n",
    "# Set up the Llama model as the LLM component of LlamaIndex\n",
    "Settings.llm = Llamafile(base_url=\"http://localhost:8080\", temperature=0, seed=0)"
   ]
  },
  {
   "cell_type": "markdown",
   "id": "f0054d6c-6cf8-4065-82e5-c86c9bb5cb72",
   "metadata": {},
   "source": [
    "# Code Samples"
   ]
  },
  {
   "cell_type": "markdown",
   "id": "8f2fd478-7eff-4236-b771-4c54f20168da",
   "metadata": {},
   "source": [
    "## Using Default Prompts"
   ]
  },
  {
   "cell_type": "code",
   "execution_count": 5,
   "id": "0ccc3ea9-e76d-4884-a375-cb05709ac357",
   "metadata": {},
   "outputs": [
    {
     "name": "stderr",
     "output_type": "stream",
     "text": [
      "Loading files: 100%|█████████████████████████████████████████████████| 1/1 [00:00<00:00,  9.65file/s]\n"
     ]
    }
   ],
   "source": [
    "# load local pdf docs\n",
    "# the `load_data` method loads the documents from the directory and returns them as a list. \n",
    "local_reader = SimpleDirectoryReader(input_dir='../../../../../_001.Data/sample-pdf/')\n",
    "docs = local_reader.load_data(show_progress=True)"
   ]
  },
  {
   "cell_type": "code",
   "execution_count": 4,
   "id": "7ba40589-67c6-4b4e-a967-1686a8f58d1f",
   "metadata": {},
   "outputs": [],
   "source": [
    "# load local csv files\n",
    "file = Path('../../../../../_001.Data/FinancialsSampleData.csv')\n",
    "csv_reader = CSVReader()\n",
    "csvs = csv_reader.load_data(file=file)"
   ]
  },
  {
   "cell_type": "code",
   "execution_count": 6,
   "id": "544be2d1-d7aa-4b9e-9ebc-c612309625ba",
   "metadata": {},
   "outputs": [],
   "source": [
    "# create an index to store vector representations of the loaded documents. \n",
    "# the `from_documents` method builds the index from the provided list of documents.\n",
    "index_pdf = VectorStoreIndex.from_documents(docs)\n",
    "index_csv = VectorStoreIndex.from_documents(csvs)"
   ]
  },
  {
   "cell_type": "code",
   "execution_count": 7,
   "id": "61f4a1e4-f289-4de3-b709-c6558a78294c",
   "metadata": {},
   "outputs": [],
   "source": [
    "# convert the index into a query engine that can handle queries and query the index\n",
    "query_engine_pdf = index_pdf.as_query_engine()\n",
    "query_engine_csv = index_csv.as_query_engine()"
   ]
  },
  {
   "cell_type": "code",
   "execution_count": 8,
   "id": "f238baea-be00-4924-8d6c-0176ded93e29",
   "metadata": {},
   "outputs": [
    {
     "name": "stdout",
     "output_type": "stream",
     "text": [
      "The main topic of the document is the context information provided, which includes information about the given context, the rules to follow when answering a question, and the context information provided in the document.</s>\n"
     ]
    }
   ],
   "source": [
    "# use the query engine to retrieve relevant information from the index\n",
    "query = \"What is the main topic of the document?\"\n",
    "response = query_engine_pdf.query(query)\n",
    "print(response)"
   ]
  },
  {
   "cell_type": "code",
   "execution_count": 9,
   "id": "89b89102-652f-4ed2-b711-0b24ef58cded",
   "metadata": {},
   "outputs": [
    {
     "name": "stdout",
     "output_type": "stream",
     "text": [
      "The currencies being used in the given context are USD, EUR, GBP, AUD, CAD, JPY, and CHF.</s>\n"
     ]
    }
   ],
   "source": [
    "# query the csv index\n",
    "query = \"What are the currencies being used?\"\n",
    "response = query_engine_csv.query(query)\n",
    "print(response)"
   ]
  },
  {
   "cell_type": "markdown",
   "id": "d62822d1-2903-45db-93b3-4db82b028b85",
   "metadata": {},
   "source": [
    "## Using Custom Prompts"
   ]
  },
  {
   "cell_type": "markdown",
   "id": "775fa356-1831-47f4-bf58-4aea07eebaae",
   "metadata": {},
   "source": [
    "### [Completion Prompts](https://docs.llamaindex.ai/en/stable/examples/customization/prompts/completion_prompts/)"
   ]
  },
  {
   "cell_type": "code",
   "execution_count": 10,
   "id": "3ab8897b-eb79-4e75-9562-b5da073d4c64",
   "metadata": {},
   "outputs": [],
   "source": [
    "from llama_index.core import PromptTemplate\n",
    "\n",
    "text_qa_template_str = (\n",
    "    \"Context information is\"\n",
    "    \" below.\\n---------------------\\n{context_str}\\n---------------------\\nUsing\"\n",
    "    \" both the context information and also using your own knowledge, answer\"\n",
    "    \" the question: {query_str}\\nIf the context isn't helpful, you can also\"\n",
    "    \" answer the question on your own.\\n\"\n",
    ")\n",
    "text_qa_template = PromptTemplate(text_qa_template_str)\n",
    "\n",
    "refine_template_str = (\n",
    "    \"The original question is as follows: {query_str}\\nWe have provided an\"\n",
    "    \" existing answer: {existing_answer}\\nWe have the opportunity to refine\"\n",
    "    \" the existing answer (only if needed) with some more context\"\n",
    "    \" below.\\n------------\\n{context_msg}\\n------------\\nUsing both the new\"\n",
    "    \" context and your own knowledge, update or repeat the existing answer.\\n\"\n",
    ")\n",
    "refine_template = PromptTemplate(refine_template_str)"
   ]
  },
  {
   "cell_type": "code",
   "execution_count": 11,
   "id": "b1cf87eb-934d-40fa-ac28-5aa79244d60b",
   "metadata": {},
   "outputs": [
    {
     "name": "stdout",
     "output_type": "stream",
     "text": [
      "The main topic of the document is the topic of mushroom-inoculated bricks being used to clean up contaminated soil in Los Alamos, New Mexico.</s>\n"
     ]
    }
   ],
   "source": [
    "print(\n",
    "    index_pdf.as_query_engine(\n",
    "        text_qa_template=text_qa_template,\n",
    "        refine_template=refine_template,\n",
    "    ).query(\"What is the main topic of the document?\")\n",
    ")"
   ]
  },
  {
   "cell_type": "markdown",
   "id": "fcaa0895-8ebe-4c43-9f07-4de2fc4b8970",
   "metadata": {},
   "source": [
    "### [Chat Prompts](https://docs.llamaindex.ai/en/stable/examples/customization/prompts/chat_prompts/)"
   ]
  },
  {
   "cell_type": "code",
   "execution_count": 12,
   "id": "5b77d2eb-5afa-4f27-a799-d2dfada12489",
   "metadata": {},
   "outputs": [],
   "source": [
    "from llama_index.core.llms import ChatMessage, MessageRole\n",
    "from llama_index.core import ChatPromptTemplate\n",
    "\n",
    "qa_prompt_str = (\n",
    "    \"Context information is below.\\n\"\n",
    "    \"---------------------\\n\"\n",
    "    \"{context_str}\\n\"\n",
    "    \"---------------------\\n\"\n",
    "    \"Given the context information and not prior knowledge, \"\n",
    "    \"answer the question: {query_str}\\n\"\n",
    ")\n",
    "\n",
    "refine_prompt_str = (\n",
    "    \"We have the opportunity to refine the original answer \"\n",
    "    \"(only if needed) with some more context below.\\n\"\n",
    "    \"------------\\n\"\n",
    "    \"{context_msg}\\n\"\n",
    "    \"------------\\n\"\n",
    "    \"Given the new context, refine the original answer to better \"\n",
    "    \"answer the question: {query_str}. \"\n",
    "    \"If the context isn't useful, output the original answer again.\\n\"\n",
    "    \"Original Answer: {existing_answer}\"\n",
    ")"
   ]
  },
  {
   "cell_type": "code",
   "execution_count": 13,
   "id": "71a96a6b-a1d1-48e8-9b6c-bbe14ce7ff09",
   "metadata": {},
   "outputs": [],
   "source": [
    "# Text QA Prompt\n",
    "chat_text_qa_msgs = [\n",
    "    (\n",
    "        \"system\",\n",
    "        \"Always answer the question, even if the context isn't helpful.\",\n",
    "    ),\n",
    "    (\"user\", qa_prompt_str),\n",
    "]\n",
    "text_qa_template = ChatPromptTemplate.from_messages(chat_text_qa_msgs)\n",
    "\n",
    "# Refine Prompt\n",
    "chat_refine_msgs = [\n",
    "    (\n",
    "        \"system\",\n",
    "        \"Always answer the question, even if the context isn't helpful.\",\n",
    "    ),\n",
    "    (\"user\", refine_prompt_str),\n",
    "]\n",
    "refine_template = ChatPromptTemplate.from_messages(chat_refine_msgs)"
   ]
  },
  {
   "cell_type": "code",
   "execution_count": 14,
   "id": "b2251dfc-4468-4829-8089-a05e0fe744e6",
   "metadata": {},
   "outputs": [
    {
     "name": "stdout",
     "output_type": "stream",
     "text": [
      "The main topic of the document is the issue of contaminated soil and water in Los Alamos, New Mexico, and the efforts to address it by using mushrooms as a natural remediation method.</s>\n"
     ]
    }
   ],
   "source": [
    "print(\n",
    "    index_pdf.as_query_engine(\n",
    "        text_qa_template=text_qa_template,\n",
    "        refine_template=refine_template,\n",
    "    ).query(\"What is the main topic of the document?\")\n",
    ")"
   ]
  }
 ],
 "metadata": {
  "kernelspec": {
   "display_name": "Python 3 (ipykernel)",
   "language": "python",
   "name": "python3"
  },
  "language_info": {
   "codemirror_mode": {
    "name": "ipython",
    "version": 3
   },
   "file_extension": ".py",
   "mimetype": "text/x-python",
   "name": "python",
   "nbconvert_exporter": "python",
   "pygments_lexer": "ipython3",
   "version": "3.9.0"
  }
 },
 "nbformat": 4,
 "nbformat_minor": 5
}
